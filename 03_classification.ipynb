{
  "nbformat": 4,
  "nbformat_minor": 0,
  "metadata": {
    "colab": {
      "name": "03_classification.ipynb",
      "provenance": [],
      "collapsed_sections": [
        "F2c05rZ4Rvm3",
        "Hi4L4oCIRWRS",
        "GcH8280FzS9U",
        "9Zzpm1Jy1ppS",
        "g5LXbjtg2Fcp",
        "EPSKj_z536_g",
        "oKQfvuNETGL4",
        "V4dWRTNtrK58",
        "ovAXdEhs4_L4",
        "NhfSTR5zgvw-",
        "Nj5v7eZWl8WZ",
        "1GXdNZqxznB1"
      ],
      "authorship_tag": "ABX9TyM+1KMM0RHH3WCBTw3jAAjX",
      "include_colab_link": true
    },
    "kernelspec": {
      "name": "python3",
      "display_name": "Python 3"
    }
  },
  "cells": [
    {
      "cell_type": "markdown",
      "metadata": {
        "id": "view-in-github",
        "colab_type": "text"
      },
      "source": [
        "<a href=\"https://colab.research.google.com/github/mattjperez/hands-on-ml/blob/master/03_classification.ipynb\" target=\"_parent\"><img src=\"https://colab.research.google.com/assets/colab-badge.svg\" alt=\"Open In Colab\"/></a>"
      ]
    },
    {
      "cell_type": "markdown",
      "metadata": {
        "id": "qcQVieDPRaG-",
        "colab_type": "text"
      },
      "source": [
        "# Classification with MNIST"
      ]
    },
    {
      "cell_type": "markdown",
      "metadata": {
        "id": "F2c05rZ4Rvm3",
        "colab_type": "text"
      },
      "source": [
        "## Load MNIST dataset from sklearn's database"
      ]
    },
    {
      "cell_type": "code",
      "metadata": {
        "id": "DlcuvbYrPk9N",
        "colab_type": "code",
        "outputId": "c76956d7-89ba-4162-b446-1e35d97815e8",
        "colab": {
          "base_uri": "https://localhost:8080/",
          "height": 34
        }
      },
      "source": [
        "from sklearn.datasets import fetch_openml\n",
        "\n",
        "mnist = fetch_openml('mnist_784', version=1)\n",
        "mnist.keys()"
      ],
      "execution_count": 0,
      "outputs": [
        {
          "output_type": "execute_result",
          "data": {
            "text/plain": [
              "dict_keys(['data', 'target', 'frame', 'feature_names', 'target_names', 'DESCR', 'details', 'categories', 'url'])"
            ]
          },
          "metadata": {
            "tags": []
          },
          "execution_count": 1
        }
      ]
    },
    {
      "cell_type": "markdown",
      "metadata": {
        "id": "Hi4L4oCIRWRS",
        "colab_type": "text"
      },
      "source": [
        "##Preview and get to know the data\n",
        "\n",
        "\n"
      ]
    },
    {
      "cell_type": "code",
      "metadata": {
        "id": "09vvHYssP2gD",
        "colab_type": "code",
        "outputId": "488dfa7b-3e6e-4ad8-8976-7e16315c0d4c",
        "colab": {
          "base_uri": "https://localhost:8080/",
          "height": 54
        }
      },
      "source": [
        "mnist['DESCR']"
      ],
      "execution_count": 0,
      "outputs": [
        {
          "output_type": "execute_result",
          "data": {
            "text/plain": [
              "\"**Author**: Yann LeCun, Corinna Cortes, Christopher J.C. Burges  \\n**Source**: [MNIST Website](http://yann.lecun.com/exdb/mnist/) - Date unknown  \\n**Please cite**:  \\n\\nThe MNIST database of handwritten digits with 784 features, raw data available at: http://yann.lecun.com/exdb/mnist/. It can be split in a training set of the first 60,000 examples, and a test set of 10,000 examples  \\n\\nIt is a subset of a larger set available from NIST. The digits have been size-normalized and centered in a fixed-size image. It is a good database for people who want to try learning techniques and pattern recognition methods on real-world data while spending minimal efforts on preprocessing and formatting. The original black and white (bilevel) images from NIST were size normalized to fit in a 20x20 pixel box while preserving their aspect ratio. The resulting images contain grey levels as a result of the anti-aliasing technique used by the normalization algorithm. the images were centered in a 28x28 image by computing the center of mass of the pixels, and translating the image so as to position this point at the center of the 28x28 field.  \\n\\nWith some classification methods (particularly template-based methods, such as SVM and K-nearest neighbors), the error rate improves when the digits are centered by bounding box rather than center of mass. If you do this kind of pre-processing, you should report it in your publications. The MNIST database was constructed from NIST's NIST originally designated SD-3 as their training set and SD-1 as their test set. However, SD-3 is much cleaner and easier to recognize than SD-1. The reason for this can be found on the fact that SD-3 was collected among Census Bureau employees, while SD-1 was collected among high-school students. Drawing sensible conclusions from learning experiments requires that the result be independent of the choice of training set and test among the complete set of samples. Therefore it was necessary to build a new database by mixing NIST's datasets.  \\n\\nThe MNIST training set is composed of 30,000 patterns from SD-3 and 30,000 patterns from SD-1. Our test set was composed of 5,000 patterns from SD-3 and 5,000 patterns from SD-1. The 60,000 pattern training set contained examples from approximately 250 writers. We made sure that the sets of writers of the training set and test set were disjoint. SD-1 contains 58,527 digit images written by 500 different writers. In contrast to SD-3, where blocks of data from each writer appeared in sequence, the data in SD-1 is scrambled. Writer identities for SD-1 is available and we used this information to unscramble the writers. We then split SD-1 in two: characters written by the first 250 writers went into our new training set. The remaining 250 writers were placed in our test set. Thus we had two sets with nearly 30,000 examples each. The new training set was completed with enough examples from SD-3, starting at pattern # 0, to make a full set of 60,000 training patterns. Similarly, the new test set was completed with SD-3 examples starting at pattern # 35,000 to make a full set with 60,000 test patterns. Only a subset of 10,000 test images (5,000 from SD-1 and 5,000 from SD-3) is available on this site. The full 60,000 sample training set is available.\\n\\nDownloaded from openml.org.\""
            ]
          },
          "metadata": {
            "tags": []
          },
          "execution_count": 2
        }
      ]
    },
    {
      "cell_type": "code",
      "metadata": {
        "id": "SRHGiOaBQst6",
        "colab_type": "code",
        "colab": {}
      },
      "source": [
        "X, y = mnist['data'], mnist['target']"
      ],
      "execution_count": 0,
      "outputs": []
    },
    {
      "cell_type": "code",
      "metadata": {
        "id": "AdtEP_aJQ8KJ",
        "colab_type": "code",
        "outputId": "9ec50856-6083-4831-9b4a-fc4f68d4ad18",
        "colab": {
          "base_uri": "https://localhost:8080/",
          "height": 34
        }
      },
      "source": [
        "X.shape  #70,000 images, 28x28 pixels (784 pixels total)"
      ],
      "execution_count": 0,
      "outputs": [
        {
          "output_type": "execute_result",
          "data": {
            "text/plain": [
              "(70000, 784)"
            ]
          },
          "metadata": {
            "tags": []
          },
          "execution_count": 4
        }
      ]
    },
    {
      "cell_type": "code",
      "metadata": {
        "id": "4L7GadB6Q_0T",
        "colab_type": "code",
        "outputId": "ddadf77a-2f38-467b-e45f-565fef72611a",
        "colab": {
          "base_uri": "https://localhost:8080/",
          "height": 34
        }
      },
      "source": [
        "y.shape  # Single Label per observation (i.e., 8, 0, 3, etc)"
      ],
      "execution_count": 0,
      "outputs": [
        {
          "output_type": "execute_result",
          "data": {
            "text/plain": [
              "(70000,)"
            ]
          },
          "metadata": {
            "tags": []
          },
          "execution_count": 5
        }
      ]
    },
    {
      "cell_type": "code",
      "metadata": {
        "id": "f-kSxURASAVE",
        "colab_type": "code",
        "outputId": "babd0458-ed85-4b2f-feaf-e54c34d01df9",
        "colab": {
          "base_uri": "https://localhost:8080/",
          "height": 136
        }
      },
      "source": [
        "!pip install matplotlib"
      ],
      "execution_count": 0,
      "outputs": [
        {
          "output_type": "stream",
          "text": [
            "Requirement already satisfied: matplotlib in /usr/local/lib/python3.6/dist-packages (3.2.1)\n",
            "Requirement already satisfied: numpy>=1.11 in /usr/local/lib/python3.6/dist-packages (from matplotlib) (1.18.4)\n",
            "Requirement already satisfied: cycler>=0.10 in /usr/local/lib/python3.6/dist-packages (from matplotlib) (0.10.0)\n",
            "Requirement already satisfied: python-dateutil>=2.1 in /usr/local/lib/python3.6/dist-packages (from matplotlib) (2.8.1)\n",
            "Requirement already satisfied: pyparsing!=2.0.4,!=2.1.2,!=2.1.6,>=2.0.1 in /usr/local/lib/python3.6/dist-packages (from matplotlib) (2.4.7)\n",
            "Requirement already satisfied: kiwisolver>=1.0.1 in /usr/local/lib/python3.6/dist-packages (from matplotlib) (1.2.0)\n",
            "Requirement already satisfied: six in /usr/local/lib/python3.6/dist-packages (from cycler>=0.10->matplotlib) (1.12.0)\n"
          ],
          "name": "stdout"
        }
      ]
    },
    {
      "cell_type": "code",
      "metadata": {
        "id": "3kG3GiKERAYf",
        "colab_type": "code",
        "outputId": "bcc8485b-9469-4dd9-98b7-e7b575ab145f",
        "colab": {
          "base_uri": "https://localhost:8080/",
          "height": 248
        }
      },
      "source": [
        "import matplotlib as mpl\n",
        "import matplotlib.pyplot as plt\n",
        "\n",
        "# Reshape the feature sets into their original 28x28 format\n",
        "# \"View\" the image using a binary mapping of the reformatted observation\n",
        "\n",
        "some_digit = X[0]\n",
        "some_digit_image = some_digit.reshape(28, 28)\n",
        "\n",
        "plt.imshow(some_digit_image, cmap='binary')\n",
        "plt.axis('off')\n",
        "plt.show()"
      ],
      "execution_count": 57,
      "outputs": [
        {
          "output_type": "display_data",
          "data": {
            "image/png": "[encoded data removed]",
            "text/plain": [
              "<Figure size 432x288 with 1 Axes>"
            ]
          },
          "metadata": {
            "tags": [],
            "needs_background": "light"
          }
        }
      ]
    },
    {
      "cell_type": "code",
      "metadata": {
        "id": "RljThSmMTVAb",
        "colab_type": "code",
        "outputId": "3a657626-7573-4b2f-91e6-077845282137",
        "colab": {
          "base_uri": "https://localhost:8080/",
          "height": 34
        }
      },
      "source": [
        "y[0]  # The label for the first observation is indeed 5"
      ],
      "execution_count": 0,
      "outputs": [
        {
          "output_type": "execute_result",
          "data": {
            "text/plain": [
              "'5'"
            ]
          },
          "metadata": {
            "tags": []
          },
          "execution_count": 8
        }
      ]
    },
    {
      "cell_type": "code",
      "metadata": {
        "id": "aXWiS6abTmcp",
        "colab_type": "code",
        "colab": {}
      },
      "source": [
        "# As the label is a string, need to reformat to an integer\n",
        "import numpy as np\n",
        "\n",
        "y = y.astype(np.uint8)"
      ],
      "execution_count": 0,
      "outputs": []
    },
    {
      "cell_type": "code",
      "metadata": {
        "id": "38F_s2k3URX7",
        "colab_type": "code",
        "colab": {}
      },
      "source": [
        "# Now that you know how the data set works, split the training and test sets\n",
        "\n",
        "X_train, X_test, y_train, y_test = X[:60_000], X[60000:], y[:60000], y[60000:]"
      ],
      "execution_count": 0,
      "outputs": []
    },
    {
      "cell_type": "markdown",
      "metadata": {
        "id": "GcH8280FzS9U",
        "colab_type": "text"
      },
      "source": [
        "## Training a Binary Classifier (True or False)"
      ]
    },
    {
      "cell_type": "markdown",
      "metadata": {
        "id": "tgRXL01jz3Wy",
        "colab_type": "text"
      },
      "source": [
        "Start small, train a classifier to distinguish between what is 5 and what's not 5"
      ]
    },
    {
      "cell_type": "code",
      "metadata": {
        "id": "ouqF5Edgz2iv",
        "colab_type": "code",
        "colab": {}
      },
      "source": [
        "y_train_5 = (y_train == 5)  #True for all 5s, False for all other digits\n",
        "y_test_5 = (y_test == 5)"
      ],
      "execution_count": 0,
      "outputs": []
    },
    {
      "cell_type": "markdown",
      "metadata": {
        "id": "ioAMf3Ig03DA",
        "colab_type": "text"
      },
      "source": [
        "Stochastic Gradient Descent handles large datasets efficiently, so we'll start with that. \n",
        "\n",
        "Since it's stochastic, you can set a seed."
      ]
    },
    {
      "cell_type": "code",
      "metadata": {
        "id": "2owJzOQy0Utp",
        "colab_type": "code",
        "outputId": "8fc5c1bb-5aa1-4379-dab5-1964c1a68a5e",
        "colab": {
          "base_uri": "https://localhost:8080/",
          "height": 119
        }
      },
      "source": [
        "from sklearn.linear_model import SGDClassifier\n",
        "\n",
        "sgd_clf = SGDClassifier(random_state=42)\n",
        "sgd_clf.fit(X_train, y_train_5)"
      ],
      "execution_count": 0,
      "outputs": [
        {
          "output_type": "execute_result",
          "data": {
            "text/plain": [
              "SGDClassifier(alpha=0.0001, average=False, class_weight=None,\n",
              "              early_stopping=False, epsilon=0.1, eta0=0.0, fit_intercept=True,\n",
              "              l1_ratio=0.15, learning_rate='optimal', loss='hinge',\n",
              "              max_iter=1000, n_iter_no_change=5, n_jobs=None, penalty='l2',\n",
              "              power_t=0.5, random_state=42, shuffle=True, tol=0.001,\n",
              "              validation_fraction=0.1, verbose=0, warm_start=False)"
            ]
          },
          "metadata": {
            "tags": []
          },
          "execution_count": 12
        }
      ]
    },
    {
      "cell_type": "code",
      "metadata": {
        "id": "AFux8zpN1SyC",
        "colab_type": "code",
        "outputId": "04c7ba78-e463-48b9-c86e-e51270cbdf41",
        "colab": {
          "base_uri": "https://localhost:8080/",
          "height": 34
        }
      },
      "source": [
        "sgd_clf.predict([some_digit])"
      ],
      "execution_count": 0,
      "outputs": [
        {
          "output_type": "execute_result",
          "data": {
            "text/plain": [
              "array([ True])"
            ]
          },
          "metadata": {
            "tags": []
          },
          "execution_count": 13
        }
      ]
    },
    {
      "cell_type": "markdown",
      "metadata": {
        "id": "n-UFwzxa1m8g",
        "colab_type": "text"
      },
      "source": [
        "##Performance Measures"
      ]
    },
    {
      "cell_type": "markdown",
      "metadata": {
        "id": "9Zzpm1Jy1ppS",
        "colab_type": "text"
      },
      "source": [
        "###Measuring Accuracy with Cross-Validation"
      ]
    },
    {
      "cell_type": "markdown",
      "metadata": {
        "id": "g5LXbjtg2Fcp",
        "colab_type": "text"
      },
      "source": [
        "#### Hand-Coded Cross-Validation"
      ]
    },
    {
      "cell_type": "markdown",
      "metadata": {
        "id": "40gqLlJb2HrZ",
        "colab_type": "text"
      },
      "source": [
        "For those that may want to develop your own implementation of cross_val_score() for a tailored process."
      ]
    },
    {
      "cell_type": "code",
      "metadata": {
        "id": "2X4m7gPK2Geu",
        "colab_type": "code",
        "outputId": "4a53e4cf-288d-4ba1-bf96-32f230263ce9",
        "colab": {
          "base_uri": "https://localhost:8080/",
          "height": 51
        }
      },
      "source": [
        "from sklearn.model_selection import StratifiedKFold\n",
        "from sklearn.base import clone\n",
        "\n",
        "skfolds = StratifiedKFold(n_splits=2, random_state=42, shuffle=True)\n",
        "\n",
        "for train_index, test_index in skfolds.split(X_train, y_train_5):\n",
        "  clone_clf = clone(sgd_clf)\n",
        "  X_train_folds = X_train[train_index]\n",
        "  y_train_folds = y_train[train_index]\n",
        "  X_test_fold = X_train[test_index]\n",
        "  y_test_fold = y_train_5[test_index]\n",
        "\n",
        "  clone_clf.fit(X_train_folds, y_train_folds)\n",
        "  y_pred = clone_clf.predict(X_test_fold)\n",
        "  n_correct = sum(y_pred == y_test_fold)\n",
        "  print(n_correct / len(y_pred))"
      ],
      "execution_count": 0,
      "outputs": [
        {
          "output_type": "stream",
          "text": [
            "0.09876666666666667\n",
            "0.10136666666666666\n"
          ],
          "name": "stdout"
        }
      ]
    },
    {
      "cell_type": "markdown",
      "metadata": {
        "id": "EPSKj_z536_g",
        "colab_type": "text"
      },
      "source": [
        "#### Built-in Cross-Validation"
      ]
    },
    {
      "cell_type": "code",
      "metadata": {
        "id": "FYPVPTos4JKj",
        "colab_type": "code",
        "outputId": "678e0c47-8577-4ced-a9c7-d883d3e2e06b",
        "colab": {
          "base_uri": "https://localhost:8080/",
          "height": 34
        }
      },
      "source": [
        "from sklearn.model_selection import cross_val_score\n",
        "\n",
        "cross_val_score(sgd_clf, X_train, y_train_5, cv=3, scoring=\"accuracy\")"
      ],
      "execution_count": 0,
      "outputs": [
        {
          "output_type": "execute_result",
          "data": {
            "text/plain": [
              "array([0.95035, 0.96035, 0.9604 ])"
            ]
          },
          "metadata": {
            "tags": []
          },
          "execution_count": 15
        }
      ]
    },
    {
      "cell_type": "markdown",
      "metadata": {
        "id": "n9elrzBkhTYO",
        "colab_type": "text"
      },
      "source": [
        "Pay attention to the 95% accuracy in the above cross-validation. Always get suspicious with that kind of result on an initial pass. \n",
        "\n",
        "That was for checking if a digit is a 5. Let's see how it does at checking if things aren't 5's. "
      ]
    },
    {
      "cell_type": "code",
      "metadata": {
        "id": "r9Lbz2KKholP",
        "colab_type": "code",
        "outputId": "558184b3-66f9-4304-a930-3539b74110c2",
        "colab": {
          "base_uri": "https://localhost:8080/",
          "height": 34
        }
      },
      "source": [
        "from sklearn.base import BaseEstimator\n",
        "\n",
        "class Never5Classifier(BaseEstimator):\n",
        "  def fit(self, X, y=None):\n",
        "    return self\n",
        "  def predict(self, X):\n",
        "    return np.zeros((len(X), 1), dtype=bool)\n",
        "\n",
        "never_5_clf = Never5Classifier()\n",
        "cross_val_score(never_5_clf, X_train, y_train_5, cv=3, scoring=\"accuracy\")\n"
      ],
      "execution_count": 0,
      "outputs": [
        {
          "output_type": "execute_result",
          "data": {
            "text/plain": [
              "array([0.91125, 0.90855, 0.90915])"
            ]
          },
          "metadata": {
            "tags": []
          },
          "execution_count": 16
        }
      ]
    },
    {
      "cell_type": "markdown",
      "metadata": {
        "id": "qykvBsRJjb0N",
        "colab_type": "text"
      },
      "source": [
        "**RED FLAG** The classifier is accurate 90% of the time. Coincicentally /s, in our data set, 5's make up about 10% of all observations. If the classifier just says nothing is a 5, it'll always get 90% accuracy. \n",
        "\n",
        "Accuracy is generally not the preferred way to measure classifier performance, especially with a skewed dataset (in this case, 10% for one value, 90% for \n",
        "another)"
      ]
    },
    {
      "cell_type": "markdown",
      "metadata": {
        "id": "oKQfvuNETGL4",
        "colab_type": "text"
      },
      "source": [
        "### Confusion Matrices, Precision and Recall"
      ]
    },
    {
      "cell_type": "markdown",
      "metadata": {
        "id": "jCZoCKjtkXn8",
        "colab_type": "text"
      },
      "source": [
        "A confusion matrix is a much better way to measure the performance of a classifier. It will show true positives, true negatives, false positives, and false negatives. \n",
        "\n",
        "Instead of right and wrong, it's more like 'how right?' or 'how wrong'.\n",
        "\n",
        "**Note from Statquest** Using a confusion matrix is excellent to determine Type 1 and Type 2 Errors. What's more important for your use case? If it's detecting cancer, having some false positives is much more preferable to having false negatives. A false negative could prevent someone who needs medical attention from popping on the radar. "
      ]
    },
    {
      "cell_type": "code",
      "metadata": {
        "id": "Gcj3468l3U5B",
        "colab_type": "code",
        "colab": {}
      },
      "source": [
        "# we need predictions to run through the confusion matrix\n",
        "\n",
        "from sklearn.model_selection import cross_val_predict\n",
        "\n",
        "# instead of returning evaluation scores, this returns predictions on each fold\n",
        "\n",
        "y_train_pred = cross_val_predict(sgd_clf, X_train, y_train_5, cv=3)"
      ],
      "execution_count": 0,
      "outputs": []
    },
    {
      "cell_type": "code",
      "metadata": {
        "id": "K2BK-cBP8Tpf",
        "colab_type": "code",
        "outputId": "ebf0298b-aa33-4ebf-9299-49d12b651285",
        "colab": {
          "base_uri": "https://localhost:8080/",
          "height": 51
        }
      },
      "source": [
        "from sklearn.metrics import confusion_matrix\n",
        "\n",
        "confusion_matrix(y_train_5, y_train_pred)"
      ],
      "execution_count": 0,
      "outputs": [
        {
          "output_type": "execute_result",
          "data": {
            "text/plain": [
              "array([[53892,   687],\n",
              "       [ 1891,  3530]])"
            ]
          },
          "metadata": {
            "tags": []
          },
          "execution_count": 18
        }
      ]
    },
    {
      "cell_type": "markdown",
      "metadata": {
        "id": "F0elpSD0QjLu",
        "colab_type": "text"
      },
      "source": [
        "What a perfect classifier's confusion matrix would look like (highly unlikely)"
      ]
    },
    {
      "cell_type": "code",
      "metadata": {
        "id": "eRN5quTMJzka",
        "colab_type": "code",
        "outputId": "a72362aa-170d-4890-979e-a7e93158c2c1",
        "colab": {
          "base_uri": "https://localhost:8080/",
          "height": 51
        }
      },
      "source": [
        "y_train_perfect_predictions = y_train_5\n",
        "\n",
        "confusion_matrix(y_train_5, y_train_perfect_predictions)"
      ],
      "execution_count": 0,
      "outputs": [
        {
          "output_type": "execute_result",
          "data": {
            "text/plain": [
              "array([[54579,     0],\n",
              "       [    0,  5421]])"
            ]
          },
          "metadata": {
            "tags": []
          },
          "execution_count": 19
        }
      ]
    },
    {
      "cell_type": "markdown",
      "metadata": {
        "id": "bZI4tDFHTOOL",
        "colab_type": "text"
      },
      "source": [
        "**Precision** is the percent-accuracy of classifier.\n",
        "\n",
        "\n",
        "\n",
        "```\n",
        "Precision = True Positives / (True Positives + False Positives)\n",
        "```\n",
        "- Out of everything classified as Positive, how many were correctly classified\n",
        "- When this classifier picks marbles from a bag that it thinks are green, how often is it correct?\n"
      ]
    },
    {
      "cell_type": "markdown",
      "metadata": {
        "id": "VjguWXVWTOjz",
        "colab_type": "text"
      },
      "source": [
        "**Recall** aka **Sensitivity** aka **True Positive Rate (TPR)** \n",
        "\n",
        "\n",
        "\n",
        "```\n",
        "True Positives / (True Positives + False Negatives)\n",
        "```\n",
        "\n",
        "- Out of all the Actual Positives, how many were correctly classified?\n",
        "- How good is this classifier at finding all of the green marbles in a bag?"
      ]
    },
    {
      "cell_type": "code",
      "metadata": {
        "id": "mo4zXcc1Zb4F",
        "colab_type": "code",
        "outputId": "08cbcb51-b633-4a5a-97a5-0cd941c85043",
        "colab": {
          "base_uri": "https://localhost:8080/",
          "height": 34
        }
      },
      "source": [
        "from sklearn.metrics import precision_score, recall_score\n",
        "\n",
        "precision_score(y_train_5, y_train_pred)\n"
      ],
      "execution_count": 0,
      "outputs": [
        {
          "output_type": "execute_result",
          "data": {
            "text/plain": [
              "0.8370879772350012"
            ]
          },
          "metadata": {
            "tags": []
          },
          "execution_count": 20
        }
      ]
    },
    {
      "cell_type": "code",
      "metadata": {
        "id": "Z8ytTpbOggF7",
        "colab_type": "code",
        "outputId": "9f2610ec-c55f-455f-92d9-52ee1ba3afa5",
        "colab": {
          "base_uri": "https://localhost:8080/",
          "height": 34
        }
      },
      "source": [
        "recall_score(y_train_5, y_train_pred)"
      ],
      "execution_count": 0,
      "outputs": [
        {
          "output_type": "execute_result",
          "data": {
            "text/plain": [
              "0.6511713705958311"
            ]
          },
          "metadata": {
            "tags": []
          },
          "execution_count": 21
        }
      ]
    },
    {
      "cell_type": "markdown",
      "metadata": {
        "id": "O8wwFj4ng3T9",
        "colab_type": "text"
      },
      "source": [
        "When this classifier detects a 5, it **is right 83.7% of the time**.\n",
        "\n",
        "This classifier only **detects 65.1% of the 5's** in the set. "
      ]
    },
    {
      "cell_type": "markdown",
      "metadata": {
        "id": "5eC98U0lhuHn",
        "colab_type": "text"
      },
      "source": [
        "**F<sub>1</sub> Score** is the *harmonic mean* of precision and recall. \n",
        "\n",
        "Harmonic mean is a weighted mean, with more weight to low values.\n",
        "\n",
        "This means the F<sub>1</sub> score will only be high if **both** precision and recall are high. \n",
        "\n",
        "\n",
        "```\n",
        "F1 = 2 / ((1/precision) + (1/recall)) = 2 * ((precision * recall) / (precision+ recall))\n",
        "```\n",
        "\n"
      ]
    },
    {
      "cell_type": "code",
      "metadata": {
        "id": "T7E2s-_wjf8a",
        "colab_type": "code",
        "outputId": "0c9df1d7-da63-4102-9a82-5d1c3cffa02c",
        "colab": {
          "base_uri": "https://localhost:8080/",
          "height": 34
        }
      },
      "source": [
        "from sklearn.metrics import f1_score\n",
        "\n",
        "f1_score(y_train_5, y_train_pred)"
      ],
      "execution_count": 0,
      "outputs": [
        {
          "output_type": "execute_result",
          "data": {
            "text/plain": [
              "0.7325171197343846"
            ]
          },
          "metadata": {
            "tags": []
          },
          "execution_count": 22
        }
      ]
    },
    {
      "cell_type": "markdown",
      "metadata": {
        "id": "4J2VdDiejb_1",
        "colab_type": "text"
      },
      "source": [
        "**Note:** The F<sub>1</sub> metric favors similar scores (i.e., when precision is similar to sensitivity). This is not always desired, depending on the use case (like the cancer detection example)."
      ]
    },
    {
      "cell_type": "markdown",
      "metadata": {
        "id": "JmsGqo35kRwO",
        "colab_type": "text"
      },
      "source": [
        "**Note 2:** Precision and Sensitivity have a similar relationship to that of bias and variance, thus there's a similar trade-off. The Precision/Recall trade-off."
      ]
    },
    {
      "cell_type": "code",
      "metadata": {
        "id": "2aMxv6kZgryo",
        "colab_type": "code",
        "colab": {}
      },
      "source": [
        ""
      ],
      "execution_count": 0,
      "outputs": []
    },
    {
      "cell_type": "markdown",
      "metadata": {
        "id": "V4dWRTNtrK58",
        "colab_type": "text"
      },
      "source": [
        "## Decision Threshold"
      ]
    },
    {
      "cell_type": "markdown",
      "metadata": {
        "id": "CMMnEFQirUSD",
        "colab_type": "text"
      },
      "source": [
        "For each instance/observation, a score is generated. If that score passes a certain threshold, it will be classified as A, otherwise it will be classified as B. \n",
        "\n",
        "Modifying this threshold will affect the Precision and Recall conversely. Lowering the threshold may allow you to classify more of Class A (Recall), but this will also increase the amount of B that is misclassified as A, lowering your Precision. "
      ]
    },
    {
      "cell_type": "markdown",
      "metadata": {
        "id": "KKwDsG2XsadZ",
        "colab_type": "text"
      },
      "source": [
        "You can't set the threshold directly, but you can access the decision scores it uses for its predictions. Instead of **predict()**, you can use **decision_function()** to see the score for each instance. You can adjust the threshold using these scores as a reference. "
      ]
    },
    {
      "cell_type": "code",
      "metadata": {
        "id": "OKqfNLIUrQq4",
        "colab_type": "code",
        "outputId": "9562ad8e-6a12-4455-c0c5-3b011ef4dea4",
        "colab": {
          "base_uri": "https://localhost:8080/",
          "height": 34
        }
      },
      "source": [
        "y_scores = sgd_clf.decision_function([some_digit])\n",
        "y_scores"
      ],
      "execution_count": 0,
      "outputs": [
        {
          "output_type": "execute_result",
          "data": {
            "text/plain": [
              "array([2164.22030239])"
            ]
          },
          "metadata": {
            "tags": []
          },
          "execution_count": 23
        }
      ]
    },
    {
      "cell_type": "code",
      "metadata": {
        "id": "jS1vE10KuYv2",
        "colab_type": "code",
        "outputId": "7c05a8f3-d306-4c60-98fb-4cad6bf626e8",
        "colab": {
          "base_uri": "https://localhost:8080/",
          "height": 34
        }
      },
      "source": [
        "threshold = 0  # everything will pass the threshold\n",
        "y_some_digit_pred = (y_scores > threshold)\n",
        "y_some_digit_pred"
      ],
      "execution_count": 0,
      "outputs": [
        {
          "output_type": "execute_result",
          "data": {
            "text/plain": [
              "array([ True])"
            ]
          },
          "metadata": {
            "tags": []
          },
          "execution_count": 24
        }
      ]
    },
    {
      "cell_type": "code",
      "metadata": {
        "id": "TrWhkOJquexF",
        "colab_type": "code",
        "outputId": "3b9c189a-6cf1-4afb-b058-f525470c46d3",
        "colab": {
          "base_uri": "https://localhost:8080/",
          "height": 34
        }
      },
      "source": [
        "threshold = 8000  # nothing will pass the threshold\n",
        "y_some_digit_pred = (y_scores > threshold)\n",
        "y_some_digit_pred"
      ],
      "execution_count": 0,
      "outputs": [
        {
          "output_type": "execute_result",
          "data": {
            "text/plain": [
              "array([False])"
            ]
          },
          "metadata": {
            "tags": []
          },
          "execution_count": 25
        }
      ]
    },
    {
      "cell_type": "markdown",
      "metadata": {
        "id": "ovAXdEhs4_L4",
        "colab_type": "text"
      },
      "source": [
        "### Optimal Threshold"
      ]
    },
    {
      "cell_type": "markdown",
      "metadata": {
        "id": "rTGTayeg5D_v",
        "colab_type": "text"
      },
      "source": [
        "First, you need predictions to work with. More specifically, you need the decision scores of these predictions. This can be done using a parameter in cross_val_predict()."
      ]
    },
    {
      "cell_type": "code",
      "metadata": {
        "id": "8HG9oQJku56_",
        "colab_type": "code",
        "colab": {}
      },
      "source": [
        "y_scores = cross_val_predict(sgd_clf, X_train, y_train_5, cv=3, method=\"decision_function\")"
      ],
      "execution_count": 0,
      "outputs": []
    },
    {
      "cell_type": "markdown",
      "metadata": {
        "id": "vO2BNiep7TmC",
        "colab_type": "text"
      },
      "source": [
        "Using these scores, you can iterate through different thresholds and find their corresponding precision-recall scores at diffent threshold values. "
      ]
    },
    {
      "cell_type": "code",
      "metadata": {
        "id": "1o0NUref7KG-",
        "colab_type": "code",
        "colab": {}
      },
      "source": [
        "# Compute precision-recall scores for all possible thresholds\n",
        "\n",
        "from sklearn.metrics import precision_recall_curve\n",
        "\n",
        "precisions, recalls, thresholds = precision_recall_curve(y_train_5, y_scores)\n"
      ],
      "execution_count": 0,
      "outputs": []
    },
    {
      "cell_type": "code",
      "metadata": {
        "id": "d5-BAQWrHZ8r",
        "colab_type": "code",
        "outputId": "1e78baa4-912b-480d-f241-49821b606d60",
        "colab": {
          "base_uri": "https://localhost:8080/",
          "height": 288
        }
      },
      "source": [
        "# Plot precision and recall as a function of threshold value\n",
        "\n",
        "def plot_precision_recall_vs_threshold(precisions, recalls, thresholds):\n",
        "  plt.plot(thresholds, precisions[:-1], \"b--\", label='Precision')\n",
        "  plt.plot(thresholds, recalls[:-1], 'g-', label='Recall')\n",
        "  plt.legend(loc=\"center right\", fontsize=16) # Not shown in the book\n",
        "  plt.xlabel(\"Threshold\", fontsize=16)        # Not shown\n",
        "  plt.grid(True)                              # Not shown\n",
        "  plt.axis([-50000, 50000, 0, 1])             # Not shown\n",
        "\n",
        "recall_90_precision = recalls[np.argmax(precisions >= 0.90)]\n",
        "threshold_90_precision = thresholds[np.argmax(precisions >= 0.90)]\n",
        "\n",
        "\n",
        "plt.figure(figsize=(8, 4))                                                                  # Not shown\n",
        "plot_precision_recall_vs_threshold(precisions, recalls, thresholds)\n",
        "plt.plot([threshold_90_precision, threshold_90_precision], [0., 0.9], \"r:\")                 # Not shown\n",
        "plt.plot([-50000, threshold_90_precision], [0.9, 0.9], \"r:\")                                # Not shown\n",
        "plt.plot([-50000, threshold_90_precision], [recall_90_precision, recall_90_precision], \"r:\")# Not shown\n",
        "plt.plot([threshold_90_precision], [0.9], \"ro\")                                             # Not shown\n",
        "plt.plot([threshold_90_precision], [recall_90_precision], \"ro\")                             # Not shown\n",
        "plt.show()"
      ],
      "execution_count": 0,
      "outputs": [
        {
          "output_type": "display_data",
          "data": {
            "image/png": "[encoded data removed]",
            "text/plain": [
              "<Figure size 576x288 with 1 Axes>"
            ]
          },
          "metadata": {
            "tags": [],
            "needs_background": "light"
          }
        }
      ]
    },
    {
      "cell_type": "markdown",
      "metadata": {
        "id": "whrOQskcZ-DR",
        "colab_type": "text"
      },
      "source": [
        "The red dots show where 90% precision and its corresponding recall value. \n",
        "The upper red-dotted area shows the range you can play with to find your ideal trade-off.\n",
        "\n",
        "**Note:** Precision can get bumpy because the score is relative to targets and non-targets above the threshold at a given time whereas recall can only go down as the threshold increases, appearing smooth.  "
      ]
    },
    {
      "cell_type": "markdown",
      "metadata": {
        "id": "NhfSTR5zgvw-",
        "colab_type": "text"
      },
      "source": [
        "### Direct Precision-to-Recall Plot"
      ]
    },
    {
      "cell_type": "markdown",
      "metadata": {
        "id": "AckSO-VFhNjH",
        "colab_type": "text"
      },
      "source": [
        "Precision and Recall can be plotted against eachother and you can make a visual \n",
        "judgement on how to maximize the trade-off. "
      ]
    },
    {
      "cell_type": "code",
      "metadata": {
        "id": "7hYofgTlO44e",
        "colab_type": "code",
        "outputId": "aab493b6-82d1-4944-af1a-5ef4a38ba7fb",
        "colab": {
          "base_uri": "https://localhost:8080/",
          "height": 397
        }
      },
      "source": [
        "# Code wasn't shown in book\n",
        "\n",
        "def plot_precision_vs_recall(precisions, recalls):\n",
        "    plt.plot(recalls, precisions, \"b-\", linewidth=2)\n",
        "    plt.xlabel(\"Recall\", fontsize=16)\n",
        "    plt.ylabel(\"Precision\", fontsize=16)\n",
        "    plt.axis([0, 1, 0, 1])\n",
        "    plt.grid(True)\n",
        "\n",
        "plt.figure(figsize=(8, 6))\n",
        "plot_precision_vs_recall(precisions, recalls)\n",
        "plt.plot([0.4368, 0.4368], [0., 0.9], \"r:\")\n",
        "plt.plot([0.0, 0.4368], [0.9, 0.9], \"r:\")\n",
        "plt.plot([0.4368], [0.9], \"ro\")\n",
        "plt.show()"
      ],
      "execution_count": 0,
      "outputs": [
        {
          "output_type": "display_data",
          "data": {
            "image/png": "[encoded data removed]",
            "text/plain": [
              "<Figure size 576x432 with 1 Axes>"
            ]
          },
          "metadata": {
            "tags": [],
            "needs_background": "light"
          }
        }
      ]
    },
    {
      "cell_type": "markdown",
      "metadata": {
        "id": "ItspJ9zRjT8q",
        "colab_type": "text"
      },
      "source": [
        "You can use the desired precision to reference the first plot and find an approximate threshold. Alternatively, you can use numpy's argmax function to find the first threshold value that will fulfill the desired condition\n",
        "\n",
        "\n",
        "```\n",
        "precision >=0.90\n",
        "```\n",
        "\n"
      ]
    },
    {
      "cell_type": "code",
      "metadata": {
        "id": "XSIVQB98jupa",
        "colab_type": "code",
        "outputId": "0591b780-dafc-44da-ecbd-f628a67b95da",
        "colab": {
          "base_uri": "https://localhost:8080/",
          "height": 34
        }
      },
      "source": [
        "threshold_90_precision = thresholds[np.argmax(precisions>=0.90)]\n",
        "threshold_90_precision"
      ],
      "execution_count": 0,
      "outputs": [
        {
          "output_type": "execute_result",
          "data": {
            "text/plain": [
              "3370.0194991439557"
            ]
          },
          "metadata": {
            "tags": []
          },
          "execution_count": 30
        }
      ]
    },
    {
      "cell_type": "markdown",
      "metadata": {
        "id": "H-61Q-e1kMDa",
        "colab_type": "text"
      },
      "source": [
        "We can see what the actual precision and recall are at the specified threshold."
      ]
    },
    {
      "cell_type": "code",
      "metadata": {
        "id": "tfSFvuSpj-9k",
        "colab_type": "code",
        "outputId": "b7dcd05d-b73d-449a-e34b-84039d30a1da",
        "colab": {
          "base_uri": "https://localhost:8080/",
          "height": 34
        }
      },
      "source": [
        "y_train_pred_90 = (y_scores >= threshold_90_precision)\n",
        "\n",
        "precision_score(y_train_5, y_train_pred_90)"
      ],
      "execution_count": 0,
      "outputs": [
        {
          "output_type": "execute_result",
          "data": {
            "text/plain": [
              "0.9000345901072293"
            ]
          },
          "metadata": {
            "tags": []
          },
          "execution_count": 31
        }
      ]
    },
    {
      "cell_type": "code",
      "metadata": {
        "id": "hL1otPHqkwa5",
        "colab_type": "code",
        "outputId": "5f1ae581-9635-4d10-84e0-000da1f90b9d",
        "colab": {
          "base_uri": "https://localhost:8080/",
          "height": 34
        }
      },
      "source": [
        "recall_score(y_train_5, y_train_pred_90)"
      ],
      "execution_count": 0,
      "outputs": [
        {
          "output_type": "execute_result",
          "data": {
            "text/plain": [
              "0.4799852425751706"
            ]
          },
          "metadata": {
            "tags": []
          },
          "execution_count": 32
        }
      ]
    },
    {
      "cell_type": "markdown",
      "metadata": {
        "id": "54T-HaKxk2-w",
        "colab_type": "text"
      },
      "source": [
        "Therefore, with a threshold of 3370:\n",
        "- When the classifier detects a 5, 90% of the time, it is correct.\n",
        "- The classifier will detect ~48% of all the 5s."
      ]
    },
    {
      "cell_type": "markdown",
      "metadata": {
        "id": "GlHw3Y3nozZT",
        "colab_type": "text"
      },
      "source": [
        "The book says a high-precision classifier is not very useful if its recall is too low. What about for investments? Trying to catch every unicorn would be insane. With investing, not losing money is more important than making money. This seems like a possible approach for that. "
      ]
    },
    {
      "cell_type": "markdown",
      "metadata": {
        "id": "Nj5v7eZWl8WZ",
        "colab_type": "text"
      },
      "source": [
        "## ROC and AUC"
      ]
    },
    {
      "cell_type": "markdown",
      "metadata": {
        "id": "Q_4JBMhIpcRo",
        "colab_type": "text"
      },
      "source": [
        "The **Receiver Operating Characteristic** (ROC). \n",
        "\n",
        "The name comes from its roots in WWII, used to measure a radar's performance at detecting enemy aircraft. \n",
        "\n",
        "ROC curve plots True Positive Rate (Recall) against False Positive Rate\n",
        "\n",
        "False Positive Rate = 1 - True Negative Rate (aka specificity)\n",
        "\n",
        "The thresholds variable will store the thresholds that gives the corresponding FPR and TPR.\n"
      ]
    },
    {
      "cell_type": "code",
      "metadata": {
        "id": "VamZzWgCkzyX",
        "colab_type": "code",
        "outputId": "48b8298c-b250-44a1-c660-c3e17f191422",
        "colab": {
          "base_uri": "https://localhost:8080/",
          "height": 397
        }
      },
      "source": [
        "from sklearn.metrics import roc_curve\n",
        "\n",
        "fpr, tpr, thresholds = roc_curve(y_train_5, y_scores)\n",
        "\n",
        "def plot_roc_curve(fpr, tpr, label=None):\n",
        "  plt.plot(fpr, tpr, linewidth=2, label=label)\n",
        "  plt.plot([0,1], [0,1], 'k--')  # Plots a diagonal dotted line across the screen\n",
        "  plt.axis([0, 1, 0, 1])                                    # Not shown in the book\n",
        "  plt.xlabel('False Positive Rate (Fall-Out)', fontsize=16) # Not shown\n",
        "  plt.ylabel('True Positive Rate (Recall)', fontsize=16)    # Not shown\n",
        "  plt.grid(True)                                            # Not shown\n",
        "\n",
        "plt.figure(figsize=(8, 6))                         # Not shown\n",
        "plot_roc_curve(fpr, tpr)\n",
        "plt.plot([4.837e-3, 4.837e-3], [0., 0.4368], \"r:\") # Not shown\n",
        "plt.plot([0.0, 4.837e-3], [0.4368, 0.4368], \"r:\")  # Not shown\n",
        "plt.plot([4.837e-3], [0.4368], \"ro\")               # Not shown\n",
        "plt.show()"
      ],
      "execution_count": 0,
      "outputs": [
        {
          "output_type": "display_data",
          "data": {
            "image/png": "[encoded data removed]",
            "text/plain": [
              "<Figure size 576x432 with 1 Axes>"
            ]
          },
          "metadata": {
            "tags": [],
            "needs_background": "light"
          }
        }
      ]
    },
    {
      "cell_type": "markdown",
      "metadata": {
        "id": "6a48B6gvvceG",
        "colab_type": "text"
      },
      "source": [
        "The higher the Recall, the more False Positives you'll get. \n",
        "\n",
        "**Note:** The dotted line is the ROC of a purely random classifier (50/50, like flipping a coin). The better the classifier, the more to the top left the curve will be. "
      ]
    },
    {
      "cell_type": "markdown",
      "metadata": {
        "id": "mb0OyzlNwL6Q",
        "colab_type": "text"
      },
      "source": [
        "The **Area Under Curve** (AUC) is exactly as it sounds. \n",
        "\n",
        "It's the percent of that plot that falls under the curve as a percentage. A perfect classifier will have an AUC of 1.0 and a random classifier would be about 0.5 (area of graph under the dotted line)."
      ]
    },
    {
      "cell_type": "code",
      "metadata": {
        "id": "1IkKdrFVvBy2",
        "colab_type": "code",
        "outputId": "ec36f896-3503-4c78-d025-91bc56437dc0",
        "colab": {
          "base_uri": "https://localhost:8080/",
          "height": 34
        }
      },
      "source": [
        "from sklearn.metrics import roc_auc_score\n",
        "\n",
        "roc_auc_score(y_train_5, y_scores)"
      ],
      "execution_count": 0,
      "outputs": [
        {
          "output_type": "execute_result",
          "data": {
            "text/plain": [
              "0.9604938554008616"
            ]
          },
          "metadata": {
            "tags": []
          },
          "execution_count": 34
        }
      ]
    },
    {
      "cell_type": "markdown",
      "metadata": {
        "id": "F-Egz3skx-Nn",
        "colab_type": "text"
      },
      "source": [
        "**Note:** You should prefer the Precision-Recall Curve over ROC when:\n",
        "- the number of Positives is rare (fraudulant charges vs real charges)\n",
        "- you are concerned about False Positives more than False Negatives\n",
        "\n",
        "Otherwise, use ROC/AUC.\n",
        "\n",
        "This scenario was an example of the first bullet point. By looking at the PR Curve, you can see there's still a lot of room for improvement while the ROC/AUC says it's doing really well. "
      ]
    },
    {
      "cell_type": "markdown",
      "metadata": {
        "id": "1GXdNZqxznB1",
        "colab_type": "text"
      },
      "source": [
        "### A Random Forest ROC/AUC vs an SGD's "
      ]
    },
    {
      "cell_type": "markdown",
      "metadata": {
        "id": "HFfPUwXTz3JU",
        "colab_type": "text"
      },
      "source": [
        "Generate predictions to be used for the confusion matrix, PR, and ROC.\n",
        "\n",
        "Random Forests don't use decision_function(). Instead they use predict_proba().\n",
        "This shows the probability an observation is one class or another.\n",
        "\n",
        "**Note:** Scikit-Learn classifiers usually have one of these methods, but sometimes have both."
      ]
    },
    {
      "cell_type": "code",
      "metadata": {
        "id": "3smrdP_5zHTj",
        "colab_type": "code",
        "colab": {}
      },
      "source": [
        "# Generate predictions using Random Forest Classifier\n",
        "\n",
        "from sklearn.ensemble import RandomForestClassifier\n",
        "\n",
        "forest_clf = RandomForestClassifier(random_state=42)\n",
        "\n",
        "y_probas_forest = cross_val_predict(forest_clf, X_train, y_train_5, \n",
        "                                    cv=3, method='predict_proba')"
      ],
      "execution_count": 0,
      "outputs": []
    },
    {
      "cell_type": "code",
      "metadata": {
        "id": "Y-8xmCAX2yzj",
        "colab_type": "code",
        "colab": {}
      },
      "source": [
        "# Use the predictions to find the FPR and TPR at different thresholds\n",
        "\n",
        "y_scores_forest = y_probas_forest[:, 1]  # All rows, column 1 (Probability is Positive)\n",
        "fpr_forest, tpr_forest, thresholds_forest = roc_curve(y_train_5, y_scores_forest)"
      ],
      "execution_count": 0,
      "outputs": []
    },
    {
      "cell_type": "code",
      "metadata": {
        "id": "KZtFfSJk4P1G",
        "colab_type": "code",
        "outputId": "4ef0f0fb-711e-4939-b181-8d339ad4bdd6",
        "colab": {
          "base_uri": "https://localhost:8080/",
          "height": 288
        }
      },
      "source": [
        "# Plot the ROC Curve of SGD and RandomForest on the same graph for comparison\n",
        "\n",
        "plt.plot(fpr, tpr, \"b:\", label='SGD')\n",
        "plot_roc_curve(fpr_forest, tpr_forest, 'Random Forest')\n",
        "plt.legend(loc='lower right')\n",
        "plt.show()"
      ],
      "execution_count": 0,
      "outputs": [
        {
          "output_type": "display_data",
          "data": {
            "image/png": "[encoded data removed]",
            "text/plain": [
              "<Figure size 432x288 with 1 Axes>"
            ]
          },
          "metadata": {
            "tags": [],
            "needs_background": "light"
          }
        }
      ]
    },
    {
      "cell_type": "markdown",
      "metadata": {
        "id": "sCGDfvsp55Bx",
        "colab_type": "text"
      },
      "source": [
        "**Note:** Call the main plot function last.\n",
        "\n",
        "The graph shows the Random Forest performing much better than SGD. \n",
        "We can find the AUC for the actual difference."
      ]
    },
    {
      "cell_type": "code",
      "metadata": {
        "id": "7H8aN_5y5i8G",
        "colab_type": "code",
        "outputId": "cb2c864c-4716-4b6f-e579-214f1d293871",
        "colab": {
          "base_uri": "https://localhost:8080/",
          "height": 34
        }
      },
      "source": [
        "roc_auc_score(y_train_5, y_scores_forest)"
      ],
      "execution_count": 0,
      "outputs": [
        {
          "output_type": "execute_result",
          "data": {
            "text/plain": [
              "0.9983436731328145"
            ]
          },
          "metadata": {
            "tags": []
          },
          "execution_count": 38
        }
      ]
    },
    {
      "cell_type": "markdown",
      "metadata": {
        "id": "cZ7skjdA6gak",
        "colab_type": "text"
      },
      "source": [
        "ROC/AUC\n",
        "- SGD: 96%\n",
        "- RFC: 99.8%\n",
        "- Delta: 3.8%"
      ]
    },
    {
      "cell_type": "code",
      "metadata": {
        "id": "GTTWYDiP7vD_",
        "colab_type": "code",
        "outputId": "eb8db39f-0d67-4359-fbe0-5ec5405da257",
        "colab": {
          "base_uri": "https://localhost:8080/",
          "height": 34
        }
      },
      "source": [
        "# Convert RFC's probabilities to 1s and 0s\n",
        "y_scores_forest_int = np.round(y_scores_forest).astype(int)\n",
        "\n",
        "precision_score(y_train_5, y_scores_forest_int)"
      ],
      "execution_count": 0,
      "outputs": [
        {
          "output_type": "execute_result",
          "data": {
            "text/plain": [
              "0.9905083315756169"
            ]
          },
          "metadata": {
            "tags": []
          },
          "execution_count": 39
        }
      ]
    },
    {
      "cell_type": "code",
      "metadata": {
        "id": "LD6CDnr87yFV",
        "colab_type": "code",
        "outputId": "7bf8367c-77d7-448f-b7aa-f839b192f43d",
        "colab": {
          "base_uri": "https://localhost:8080/",
          "height": 34
        }
      },
      "source": [
        "recall_score(y_train_5, y_scores_forest_int)"
      ],
      "execution_count": 0,
      "outputs": [
        {
          "output_type": "execute_result",
          "data": {
            "text/plain": [
              "0.8662608374838591"
            ]
          },
          "metadata": {
            "tags": []
          },
          "execution_count": 40
        }
      ]
    },
    {
      "cell_type": "markdown",
      "metadata": {
        "id": "2kgkexjB-7qX",
        "colab_type": "text"
      },
      "source": [
        "Precision\n",
        "- SGD: 83.7%\n",
        "- RFC: 99.1%\n",
        "- Delta: ~16%\n",
        "\n",
        "Recall\n",
        "- SGD: 65.1%\n",
        "- RFC: 86.6%\n",
        "- Delta: ~21%"
      ]
    },
    {
      "cell_type": "markdown",
      "metadata": {
        "id": "FKoXBHEF_3EG",
        "colab_type": "text"
      },
      "source": [
        "## Multiclass Classification"
      ]
    },
    {
      "cell_type": "markdown",
      "metadata": {
        "id": "XUm7g6YQDljK",
        "colab_type": "text"
      },
      "source": [
        "Binary Classifiers distinguish between two classes. Multiclass Classifiers (aka multinomial classifiers) distinguish between multiple classes.\n",
        "\n",
        ">Binary Classifiers:\n",
        "- Logistic Regression\n",
        "- Support Vector Machines\n",
        "\n",
        ">Multiclass Classifiers:\n",
        "- Stochastic Gradient Descent\n",
        "- Random Forest\n",
        "- Naive Bayes\n",
        "\n",
        "Binary classifiers can be used for multiclass purposes, but it needs one classifier per label. The classifier with the highest decision score determines the final prediction. This is called one-versus-the-rest (OvR) or one-versus-all. \n",
        "\n",
        "**Note** Sounds like a Neural Network\n",
        "\n",
        "Another strategy is one-versus-one (OvO), that has as many classifiers as there are pair combinations. \n",
        "\n",
        "```\n",
        "C(10, 2) = 45 combinations = 45 classifiers\n",
        "```\n",
        "The main advantage is that each classifier only needs to train on a subset of the data. \n",
        "\n",
        "**Note:** SVM scales poorly depending on the size of the training set, so this approach is preferred. Most binary classifiers work better with OvR though.\n",
        "\n",
        "**Note 2:** Scikit-learn can tell if you use a binary classifier for multiclass purposes. It'll automatically use OvR or OvO depending on classifier's defaults.\n",
        " "
      ]
    },
    {
      "cell_type": "markdown",
      "metadata": {
        "id": "OrCuaSbUNgte",
        "colab_type": "text"
      },
      "source": [
        "### Multiclass SVM (default= OvO)"
      ]
    },
    {
      "cell_type": "code",
      "metadata": {
        "id": "OTQjobn4Hdmb",
        "colab_type": "code",
        "outputId": "f1a57018-e601-4f55-9cc1-33f61623d77b",
        "colab": {
          "base_uri": "https://localhost:8080/",
          "height": 34
        }
      },
      "source": [
        "from sklearn.svm import SVC\n",
        "\n",
        "svm_clf = SVC()\n",
        "svm_clf.fit(X_train, y_train)  # full y_train, not the set of just 5s\n",
        "svm_clf.predict([some_digit])"
      ],
      "execution_count": 0,
      "outputs": [
        {
          "output_type": "execute_result",
          "data": {
            "text/plain": [
              "array([5], dtype=uint8)"
            ]
          },
          "metadata": {
            "tags": []
          },
          "execution_count": 41
        }
      ]
    },
    {
      "cell_type": "markdown",
      "metadata": {
        "id": "PL9uGnv_Ku2B",
        "colab_type": "text"
      },
      "source": [
        "Under the hood, SVM created 45 binary classifiers which gave each observation an array of 10 decision scores, one for each possible label."
      ]
    },
    {
      "cell_type": "code",
      "metadata": {
        "id": "6JLUHomBLFr2",
        "colab_type": "code",
        "outputId": "2c56a242-2b77-475d-fbbb-0f66874a49d7",
        "colab": {
          "base_uri": "https://localhost:8080/",
          "height": 51
        }
      },
      "source": [
        "some_digit_scores = svm_clf.decision_function([some_digit])\n",
        "some_digit_scores"
      ],
      "execution_count": 0,
      "outputs": [
        {
          "output_type": "execute_result",
          "data": {
            "text/plain": [
              "array([[ 1.72501977,  2.72809088,  7.2510018 ,  8.3076379 , -0.31087254,\n",
              "         9.3132482 ,  1.70975103,  2.76765202,  6.23049537,  4.84771048]])"
            ]
          },
          "metadata": {
            "tags": []
          },
          "execution_count": 43
        }
      ]
    },
    {
      "cell_type": "code",
      "metadata": {
        "id": "bNMoewvJL_5u",
        "colab_type": "code",
        "outputId": "cf391872-9b28-4e18-8816-37a015287b97",
        "colab": {
          "base_uri": "https://localhost:8080/",
          "height": 34
        }
      },
      "source": [
        "# Target classes stored in .classes_ ordered by value, \n",
        "# Luckily our labels match their indices\n",
        "\n",
        "svm_clf.classes_"
      ],
      "execution_count": 0,
      "outputs": [
        {
          "output_type": "execute_result",
          "data": {
            "text/plain": [
              "array([0, 1, 2, 3, 4, 5, 6, 7, 8, 9], dtype=uint8)"
            ]
          },
          "metadata": {
            "tags": []
          },
          "execution_count": 44
        }
      ]
    },
    {
      "cell_type": "code",
      "metadata": {
        "id": "RX8D9FyfMb9W",
        "colab_type": "code",
        "outputId": "1a391496-bbc7-4dbf-f2ee-1b744904405f",
        "colab": {
          "base_uri": "https://localhost:8080/",
          "height": 34
        }
      },
      "source": [
        "# When using non-numerical numers, can verify the label of a specific index\n",
        "\n",
        "svm_clf.classes_[5]  #index, returns label"
      ],
      "execution_count": 0,
      "outputs": [
        {
          "output_type": "execute_result",
          "data": {
            "text/plain": [
              "5"
            ]
          },
          "metadata": {
            "tags": []
          },
          "execution_count": 45
        }
      ]
    },
    {
      "cell_type": "code",
      "metadata": {
        "id": "XJPmYd6aLoP9",
        "colab_type": "code",
        "outputId": "c79779d7-083b-4198-a87e-df14cfcc6067",
        "colab": {
          "base_uri": "https://localhost:8080/",
          "height": 34
        }
      },
      "source": [
        "# Prediction can also be seen using the argmax function\n",
        "\n",
        "np.argmax(some_digit_scores)"
      ],
      "execution_count": 0,
      "outputs": [
        {
          "output_type": "execute_result",
          "data": {
            "text/plain": [
              "5"
            ]
          },
          "metadata": {
            "tags": []
          },
          "execution_count": 46
        }
      ]
    },
    {
      "cell_type": "markdown",
      "metadata": {
        "id": "42JU8dEgNdnw",
        "colab_type": "text"
      },
      "source": [
        "### Multiclass SVM (OvR)"
      ]
    },
    {
      "cell_type": "markdown",
      "metadata": {
        "id": "vi8A84QTL1kh",
        "colab_type": "text"
      },
      "source": [
        "To force a binary classifier to use another approach, use one of the following classes:\n",
        "- OneVsOneClassifier()\n",
        "- OneVsRestClassifier()"
      ]
    },
    {
      "cell_type": "markdown",
      "metadata": {
        "id": "juNLxpKG7jdE",
        "colab_type": "text"
      },
      "source": [
        "**Warning** The next code block takes about 60min on Google colab"
      ]
    },
    {
      "cell_type": "code",
      "metadata": {
        "id": "mqRMyyvkOoDB",
        "colab_type": "code",
        "outputId": "a14d5ad4-52f4-4270-8498-994f3f856cd1",
        "colab": {
          "base_uri": "https://localhost:8080/",
          "height": 34
        }
      },
      "source": [
        "from sklearn.multiclass import OneVsRestClassifier\n",
        "\n",
        "ovr_clf = OneVsRestClassifier(SVC())\n",
        "ovr_clf.fit(X_train, y_train)\n",
        "ovr_clf.predict([some_digit])"
      ],
      "execution_count": 0,
      "outputs": [
        {
          "output_type": "execute_result",
          "data": {
            "text/plain": [
              "array([5], dtype=uint8)"
            ]
          },
          "metadata": {
            "tags": []
          },
          "execution_count": 47
        }
      ]
    },
    {
      "cell_type": "code",
      "metadata": {
        "id": "tLyagN2MPCX_",
        "colab_type": "code",
        "outputId": "26473b3f-4c14-48c0-82d1-59f8027cb208",
        "colab": {
          "base_uri": "https://localhost:8080/",
          "height": 34
        }
      },
      "source": [
        "# Number of binary classifiers made\n",
        "\n",
        "len(ovr_clf.estimators_)"
      ],
      "execution_count": 0,
      "outputs": [
        {
          "output_type": "execute_result",
          "data": {
            "text/plain": [
              "10"
            ]
          },
          "metadata": {
            "tags": []
          },
          "execution_count": 48
        }
      ]
    },
    {
      "cell_type": "markdown",
      "metadata": {
        "id": "CqEHQTh2Pgd9",
        "colab_type": "text"
      },
      "source": [
        "### Multiclass Classifier"
      ]
    },
    {
      "cell_type": "markdown",
      "metadata": {
        "id": "KkvE2jlqPo4k",
        "colab_type": "text"
      },
      "source": [
        "No need to run OvR or OvO because these classifiers can work directly with the full training data. The decision_function() method will return 1 instead of 10 or 45"
      ]
    },
    {
      "cell_type": "code",
      "metadata": {
        "id": "8X_h86fLXlyp",
        "colab_type": "code",
        "outputId": "62182905-e91d-4b64-dcb8-132f2d7247ba",
        "colab": {
          "base_uri": "https://localhost:8080/",
          "height": 34
        }
      },
      "source": [
        "sgd_clf.fit(X_train, y_train)\n",
        "sgd_clf.predict([some_digit])"
      ],
      "execution_count": 0,
      "outputs": [
        {
          "output_type": "execute_result",
          "data": {
            "text/plain": [
              "array([3], dtype=uint8)"
            ]
          },
          "metadata": {
            "tags": []
          },
          "execution_count": 49
        }
      ]
    },
    {
      "cell_type": "code",
      "metadata": {
        "id": "uQt5Wvn6XtrA",
        "colab_type": "code",
        "outputId": "d77403c3-2e19-4e3f-d499-f28560f50a55",
        "colab": {
          "base_uri": "https://localhost:8080/",
          "height": 85
        }
      },
      "source": [
        "# Decision scores assigned to each class\n",
        "\n",
        "sgd_clf.decision_function([some_digit])"
      ],
      "execution_count": 0,
      "outputs": [
        {
          "output_type": "execute_result",
          "data": {
            "text/plain": [
              "array([[-31893.03095419, -34419.69069632,  -9530.63950739,\n",
              "          1823.73154031, -22320.14822878,  -1385.80478895,\n",
              "        -26188.91070951, -16147.51323997,  -4604.35491274,\n",
              "        -12050.767298  ]])"
            ]
          },
          "metadata": {
            "tags": []
          },
          "execution_count": 50
        }
      ]
    },
    {
      "cell_type": "markdown",
      "metadata": {
        "id": "2FX6gbBOX6Xl",
        "colab_type": "text"
      },
      "source": [
        "The classifier is very confident about its prediction, only one other label having a positive score, and it's one-fifth that of the correct label. This means there is model feels there's a slight possibility the label is a 3 instead of a 5. Like doubt. "
      ]
    },
    {
      "cell_type": "code",
      "metadata": {
        "id": "sk5RkbYzYOrH",
        "colab_type": "code",
        "outputId": "000cfdaf-360b-435e-96c3-0de4d5a1e9c6",
        "colab": {
          "base_uri": "https://localhost:8080/",
          "height": 34
        }
      },
      "source": [
        "# checking SGD's accuracy\n",
        "\n",
        "cross_val_score(sgd_clf, X_train, y_train, cv=3, scoring='accuracy')"
      ],
      "execution_count": 0,
      "outputs": [
        {
          "output_type": "execute_result",
          "data": {
            "text/plain": [
              "array([0.87365, 0.85835, 0.8689 ])"
            ]
          },
          "metadata": {
            "tags": []
          },
          "execution_count": 51
        }
      ]
    },
    {
      "cell_type": "markdown",
      "metadata": {
        "id": "IcgY5xhdY4nY",
        "colab_type": "text"
      },
      "source": [
        "It does well at around 85%, but let's try preprocessing the inputs using a standard scaler. \n",
        "\n",
        "**Note:** This is a common preprocessing technique done to images before being used in a convolutional neural network.\n",
        "\n",
        "**Note 2:** The reason this works better is because a zero-centered unit like a z-score is easier for the model to work with as opposed to a range of 0 to 255. \n",
        "\n",
        "Imagine if you had to repeatedly reference the mean and instead of an easy number like 0 you have to constantly compute it because it changes with every set, subset, or single observation. "
      ]
    },
    {
      "cell_type": "code",
      "metadata": {
        "id": "ql3jvoZTZKp-",
        "colab_type": "code",
        "colab": {
          "base_uri": "https://localhost:8080/",
          "height": 34
        },
        "outputId": "794a11b3-e1f6-4a09-8315-08258dd70656"
      },
      "source": [
        "from sklearn.preprocessing import StandardScaler\n",
        "\n",
        "scaler = StandardScaler()\n",
        "X_train_scaled = scaler.fit_transform(X_train.astype(np.float64))\n",
        "cross_val_score(sgd_clf, X_train_scaled, y_train, cv=3, scoring='accuracy')"
      ],
      "execution_count": 52,
      "outputs": [
        {
          "output_type": "execute_result",
          "data": {
            "text/plain": [
              "array([0.8983, 0.891 , 0.9018])"
            ]
          },
          "metadata": {
            "tags": []
          },
          "execution_count": 52
        }
      ]
    },
    {
      "cell_type": "markdown",
      "metadata": {
        "id": "EWhOBJuPdTuP",
        "colab_type": "text"
      },
      "source": [
        "Scores much better. Always check what preprocessing techniques work well with your data's format and the chosen model. "
      ]
    },
    {
      "cell_type": "markdown",
      "metadata": {
        "id": "0GsjKBZ3ACh_",
        "colab_type": "text"
      },
      "source": [
        "## Error Analysis"
      ]
    },
    {
      "cell_type": "markdown",
      "metadata": {
        "id": "yF3BNpx0dvWI",
        "colab_type": "text"
      },
      "source": [
        "This next part is for after you've:\n",
        "- explored the data\n",
        "- try multiple models\n",
        "- select candidate models\n",
        "- and fine-tune the hyperparameters\n",
        "\n",
        "This section is about analyzing the types of errors your model makes."
      ]
    },
    {
      "cell_type": "code",
      "metadata": {
        "id": "hW7mh5B0eXjp",
        "colab_type": "code",
        "colab": {
          "base_uri": "https://localhost:8080/",
          "height": 187
        },
        "outputId": "f8bd000a-62fc-4dc7-84f2-8ef74045d132"
      },
      "source": [
        "# Start with a confusion matrix\n",
        "\n",
        "x_train_pred = cross_val_predict(sgd_clf, X_train_scaled, y_train, cv=3)\n",
        "conf_mx = confusion_matrix(y_train, y_train_pred)\n",
        "conf_mx"
      ],
      "execution_count": 53,
      "outputs": [
        {
          "output_type": "execute_result",
          "data": {
            "text/plain": [
              "array([[5860,   63,    0,    0,    0,    0,    0,    0,    0,    0],\n",
              "       [6675,   67,    0,    0,    0,    0,    0,    0,    0,    0],\n",
              "       [5932,   26,    0,    0,    0,    0,    0,    0,    0,    0],\n",
              "       [5913,  218,    0,    0,    0,    0,    0,    0,    0,    0],\n",
              "       [5821,   21,    0,    0,    0,    0,    0,    0,    0,    0],\n",
              "       [1891, 3530,    0,    0,    0,    0,    0,    0,    0,    0],\n",
              "       [5796,  122,    0,    0,    0,    0,    0,    0,    0,    0],\n",
              "       [6251,   14,    0,    0,    0,    0,    0,    0,    0,    0],\n",
              "       [5741,  110,    0,    0,    0,    0,    0,    0,    0,    0],\n",
              "       [5903,   46,    0,    0,    0,    0,    0,    0,    0,    0]])"
            ]
          },
          "metadata": {
            "tags": []
          },
          "execution_count": 53
        }
      ]
    },
    {
      "cell_type": "markdown",
      "metadata": {
        "id": "kXHH1j32fDFy",
        "colab_type": "text"
      },
      "source": [
        "When the numbers are confusing, you can use matplotlib's matshow() function for a nice graphical representation."
      ]
    },
    {
      "cell_type": "code",
      "metadata": {
        "id": "Cz89r04MfMTf",
        "colab_type": "code",
        "colab": {
          "base_uri": "https://localhost:8080/",
          "height": 275
        },
        "outputId": "ebc9edf0-6fb9-4034-84aa-2b66d2c263ca"
      },
      "source": [
        "plt.matshow(conf_mx, cmap=plt.cm.gray)\n",
        "plt.show()"
      ],
      "execution_count": 54,
      "outputs": [
        {
          "output_type": "display_data",
          "data": {
            "image/png": "[encoded data removed]",
            "text/plain": [
              "<Figure size 288x288 with 1 Axes>"
            ]
          },
          "metadata": {
            "tags": [],
            "needs_background": "light"
          }
        }
      ]
    },
    {
      "cell_type": "markdown",
      "metadata": {
        "id": "zbUgIJSLfVvq",
        "colab_type": "text"
      },
      "source": [
        "In this grayscale image, 5 is slightly darker than the rest. This can mean:\n",
        "1. There are fewer images of 5s in the dataset\n",
        "2. or the classifier doesn't do well with 5s"
      ]
    },
    {
      "cell_type": "code",
      "metadata": {
        "id": "6lEoO4hif1dH",
        "colab_type": "code",
        "colab": {
          "base_uri": "https://localhost:8080/",
          "height": 275
        },
        "outputId": "324269a7-9e11-4652-be1c-c2613142fd2b"
      },
      "source": [
        "# divide matrix by number of observations per class for relative errors instead of absolute\n",
        "# absolute errors make abundant classes look comparatively worse\n",
        "\n",
        "row_sums = conf_mx.sum(axis=1, keepdims=True)\n",
        "norm_conf_mx = conf_mx / row_sums\n",
        "\n",
        "# fill diagonal with zeroes to focus on errors\n",
        "\n",
        "np.fill_diagonal(norm_conf_mx, 0)\n",
        "plt.matshow(norm_conf_mx, cmap=plt.cm.gray)\n",
        "plt.show()"
      ],
      "execution_count": 55,
      "outputs": [
        {
          "output_type": "display_data",
          "data": {
            "image/png": "[encoded data removed]",
            "text/plain": [
              "<Figure size 288x288 with 1 Axes>"
            ]
          },
          "metadata": {
            "tags": [],
            "needs_background": "light"
          }
        }
      ]
    },
    {
      "cell_type": "markdown",
      "metadata": {
        "id": "lECrKHUIhnrn",
        "colab_type": "text"
      },
      "source": [
        "Rows represent actual class while columns represent predicted class.\n",
        "\n",
        "Bright columns (predicted label) mean more misclassifications of that label. The brighter the box, the less precision (more false positives)\n",
        "\n",
        "A dark row (actual label) means higher sensitivity to that label. \n",
        "\n",
        "This model seems to have a high sensitivity to 8s but lower precision for 8s. 8s are usually classified correctly, but non-8s are often misclassified as 8s."
      ]
    },
    {
      "cell_type": "markdown",
      "metadata": {
        "id": "O3EPwgbaitq6",
        "colab_type": "text"
      },
      "source": [
        "Ways you can **improve precision** on 8s:\n",
        "- Use more training data that looks like 8s but aren't.\n",
        "- Engineer new features to help the classifier (like counting loops)\n",
        "- Preprocess the image to make loops stand out more (Scikit-Image, Pillow, OpenCV)."
      ]
    },
    {
      "cell_type": "markdown",
      "metadata": {
        "id": "LP5rVoDwkuwk",
        "colab_type": "text"
      },
      "source": [
        "**Analyzing individual errors** are a great way to get an idea of what's going wrong, but can difficult and time-consuming. \n",
        "\n",
        "The 3s and 5s seem to be misclassified as eachother often. Let's take a look at the actual images."
      ]
    },
    {
      "cell_type": "code",
      "metadata": {
        "id": "9qLt8GzelJzB",
        "colab_type": "code",
        "colab": {
          "base_uri": "https://localhost:8080/",
          "height": 232
        },
        "outputId": "1af06ec9-69a1-4d3e-a65f-532295ad1fce"
      },
      "source": [
        "def plot_digit(data):\n",
        "    image = data.reshape(28, 28)\n",
        "    plt.imshow(image, cmap = mpl.cm.binary,\n",
        "               interpolation=\"nearest\")\n",
        "    plt.axis(\"off\")\n",
        "\n",
        "cl_a, cl_b = 3, 5\n",
        "X_aa = X_train[(y_train == cl_a) & (y_train_pred == cl_a)]\n",
        "X_ab = X_train[(y_train == cl_a) & (y_train_pred == cl_b)]\n",
        "X_ba = X_train[(y_train == cl_b) & (y_train_pred == cl_a)]\n",
        "X_bb = X_train[(y_train == cl_b) & (y_train_pred == cl_b)]\n",
        "\n",
        "plt.figure(figsize=(8,8))\n",
        "plt.subplot(221); plot_digits(X_aa[:25], images_per_row=5)\n",
        "plt.subplot(222); plot_digits(X_ab[:25], images_per_row=5)\n",
        "plt.subplot(223); plot_digits(X_ba[:25], images_per_row=5)\n",
        "plt.subplot(224); plot_digits(X_bb[:25], images_per_row=5)\n",
        "plt.show()"
      ],
      "execution_count": 2,
      "outputs": [
        {
          "output_type": "error",
          "ename": "NameError",
          "evalue": "ignored",
          "traceback": [
            "\u001b[0;31m---------------------------------------------------------------------------\u001b[0m",
            "\u001b[0;31mNameError\u001b[0m                                 Traceback (most recent call last)",
            "\u001b[0;32m<ipython-input-2-7a758e0a59c5>\u001b[0m in \u001b[0;36m<module>\u001b[0;34m()\u001b[0m\n\u001b[1;32m      6\u001b[0m \u001b[0;34m\u001b[0m\u001b[0m\n\u001b[1;32m      7\u001b[0m \u001b[0mcl_a\u001b[0m\u001b[0;34m,\u001b[0m \u001b[0mcl_b\u001b[0m \u001b[0;34m=\u001b[0m \u001b[0;36m3\u001b[0m\u001b[0;34m,\u001b[0m \u001b[0;36m5\u001b[0m\u001b[0;34m\u001b[0m\u001b[0;34m\u001b[0m\u001b[0m\n\u001b[0;32m----> 8\u001b[0;31m \u001b[0mX_aa\u001b[0m \u001b[0;34m=\u001b[0m \u001b[0mX_train\u001b[0m\u001b[0;34m[\u001b[0m\u001b[0;34m(\u001b[0m\u001b[0my_train\u001b[0m \u001b[0;34m==\u001b[0m \u001b[0mcl_a\u001b[0m\u001b[0;34m)\u001b[0m \u001b[0;34m&\u001b[0m \u001b[0;34m(\u001b[0m\u001b[0my_train_pred\u001b[0m \u001b[0;34m==\u001b[0m \u001b[0mcl_a\u001b[0m\u001b[0;34m)\u001b[0m\u001b[0;34m]\u001b[0m\u001b[0;34m\u001b[0m\u001b[0;34m\u001b[0m\u001b[0m\n\u001b[0m\u001b[1;32m      9\u001b[0m \u001b[0mX_ab\u001b[0m \u001b[0;34m=\u001b[0m \u001b[0mX_train\u001b[0m\u001b[0;34m[\u001b[0m\u001b[0;34m(\u001b[0m\u001b[0my_train\u001b[0m \u001b[0;34m==\u001b[0m \u001b[0mcl_a\u001b[0m\u001b[0;34m)\u001b[0m \u001b[0;34m&\u001b[0m \u001b[0;34m(\u001b[0m\u001b[0my_train_pred\u001b[0m \u001b[0;34m==\u001b[0m \u001b[0mcl_b\u001b[0m\u001b[0;34m)\u001b[0m\u001b[0;34m]\u001b[0m\u001b[0;34m\u001b[0m\u001b[0;34m\u001b[0m\u001b[0m\n\u001b[1;32m     10\u001b[0m \u001b[0mX_ba\u001b[0m \u001b[0;34m=\u001b[0m \u001b[0mX_train\u001b[0m\u001b[0;34m[\u001b[0m\u001b[0;34m(\u001b[0m\u001b[0my_train\u001b[0m \u001b[0;34m==\u001b[0m \u001b[0mcl_b\u001b[0m\u001b[0;34m)\u001b[0m \u001b[0;34m&\u001b[0m \u001b[0;34m(\u001b[0m\u001b[0my_train_pred\u001b[0m \u001b[0;34m==\u001b[0m \u001b[0mcl_a\u001b[0m\u001b[0;34m)\u001b[0m\u001b[0;34m]\u001b[0m\u001b[0;34m\u001b[0m\u001b[0;34m\u001b[0m\u001b[0m\n",
            "\u001b[0;31mNameError\u001b[0m: name 'X_train' is not defined"
          ]
        }
      ]
    },
    {
      "cell_type": "markdown",
      "metadata": {
        "id": "JxcMplWplgMZ",
        "colab_type": "text"
      },
      "source": [
        "The 5x5 blocks on the left are classified as 3s by the model.\n",
        "\n",
        "The 5x5 blocks on the right are classified as 5s."
      ]
    },
    {
      "cell_type": "markdown",
      "metadata": {
        "id": "KQMubQb4l-H-",
        "colab_type": "text"
      },
      "source": [
        "The linear classifier used (SGD) uses the weights of the pixels which it then sums up. Since 3s and 5s differ by only a few pixels, their sums are similar and easily confused for one another. \n",
        "\n",
        "The main difference between 3 and 5 is the joint that connects the top of the number to the bottom. If the joint is to the left of center it might classify a 5; a 3 if it's right of center. This means the **this classifier is sensitive to image shifting and rotation**. Try preprocessing the images to ensure centeredness and minimal rotation to help reduce errors. "
      ]
    },
    {
      "cell_type": "markdown",
      "metadata": {
        "id": "N0hHd7evALat",
        "colab_type": "text"
      },
      "source": [
        "## Multilabel Classification"
      ]
    },
    {
      "cell_type": "markdown",
      "metadata": {
        "id": "z75GXRktnrjV",
        "colab_type": "text"
      },
      "source": [
        ""
      ]
    },
    {
      "cell_type": "code",
      "metadata": {
        "id": "xQTGTAO-nxt2",
        "colab_type": "code",
        "colab": {
          "base_uri": "https://localhost:8080/",
          "height": 68
        },
        "outputId": "4a52ce45-d402-4b39-fdc2-b2c7cde2af3e"
      },
      "source": [
        "from sklearn.neighbors import KNeighborsClassifier\n",
        "\n",
        "y_train_large = (y_train >= 7)\n",
        "y_train_odd = (y_train % 2 == 1)\n",
        "y_multilabel = np.c_[y_train_large, y_train_odd]\n",
        "\n",
        "knn_clf = KNeighborsClassifier()\n",
        "knn_clf.fit(X_train, y_multilabel)"
      ],
      "execution_count": 59,
      "outputs": [
        {
          "output_type": "execute_result",
          "data": {
            "text/plain": [
              "KNeighborsClassifier(algorithm='auto', leaf_size=30, metric='minkowski',\n",
              "                     metric_params=None, n_jobs=None, n_neighbors=5, p=2,\n",
              "                     weights='uniform')"
            ]
          },
          "metadata": {
            "tags": []
          },
          "execution_count": 59
        }
      ]
    },
    {
      "cell_type": "markdown",
      "metadata": {
        "id": "rDdfUYADpWac",
        "colab_type": "text"
      },
      "source": [
        "The np.c_ concats column-wise (adding the array/matrix to the right), np.r_ would concat row-wise (adding the array/matrix to the bottom). \n",
        "\n",
        "Like stacking matrices (np.r_) vs augmenting a matrix (np.c_)\n",
        "\n",
        "**Note:** This method reminds me of OneHotEncoding"
      ]
    },
    {
      "cell_type": "code",
      "metadata": {
        "id": "scsH-b1Fo_j4",
        "colab_type": "code",
        "colab": {
          "base_uri": "https://localhost:8080/",
          "height": 34
        },
        "outputId": "58c40853-b7d1-48c2-a792-82bc45ac5aaa"
      },
      "source": [
        "# Predicts if Large[0] and/or Odd[1]\n",
        "\n",
        "knn_clf.predict([some_digit])"
      ],
      "execution_count": 61,
      "outputs": [
        {
          "output_type": "execute_result",
          "data": {
            "text/plain": [
              "array([[False,  True]])"
            ]
          },
          "metadata": {
            "tags": []
          },
          "execution_count": 61
        }
      ]
    },
    {
      "cell_type": "markdown",
      "metadata": {
        "id": "xF3sADISqPBg",
        "colab_type": "text"
      },
      "source": [
        "One approach to evaluating a multilabel classifier is calculating the F<sub>1</sub> score of each label, then compute the average. The next code computes the average F<sub>1</sub> score across all labels."
      ]
    },
    {
      "cell_type": "code",
      "metadata": {
        "id": "5OXBmzKFqzZ8",
        "colab_type": "code",
        "colab": {}
      },
      "source": [
        "y_train_knn_pred = cross_val_predict(knn_clf, X_train, y_multilabel, cv=3)\n",
        "f1_score(y_multilabel, y_train_knn_pred, average='macro')"
      ],
      "execution_count": 0,
      "outputs": []
    },
    {
      "cell_type": "markdown",
      "metadata": {
        "id": "j5K-_9DfrA_W",
        "colab_type": "text"
      },
      "source": [
        "This method assumes all labels are equally important, but that may not be the case if one label is more prominant overall than others. One method is to give each label a weight equal to its support (number of instances with that target label). To do that, just change 'macro' from the code above to 'weighted'. "
      ]
    },
    {
      "cell_type": "markdown",
      "metadata": {
        "id": "x8PK97ohAOn1",
        "colab_type": "text"
      },
      "source": [
        "##Multioutput Classification"
      ]
    },
    {
      "cell_type": "markdown",
      "metadata": {
        "id": "ZNcnQ-xCr7qV",
        "colab_type": "text"
      },
      "source": [
        "Multioutput-Multiclass Classification (or just Multioutput Classification). Each label can have multiple classes.\n",
        "\n",
        "The example in the book reduces noise from an image (looks like static). The labels are:\n",
        "1. label per pixel\n",
        "2. intensity of the pixel (0-255)"
      ]
    },
    {
      "cell_type": "code",
      "metadata": {
        "id": "CUE01SAm_pnw",
        "colab_type": "code",
        "colab": {}
      },
      "source": [
        "# create training set by adding noise to MNIST images via randint\n",
        "\n",
        "noise = np.random.randint(0, 100, (len(X_train), 784))\n",
        "X_train_mod = X_train + noise\n",
        "noise = np.random.randint(0, 100, (len(X_test), 784))\n",
        "X_test_mod = X_test + noise\n",
        "y_train_mod = X_train\n",
        "y_test_mod = X_test"
      ],
      "execution_count": 0,
      "outputs": []
    },
    {
      "cell_type": "code",
      "metadata": {
        "id": "ur6hBhzRtgLx",
        "colab_type": "code",
        "colab": {}
      },
      "source": [
        "# checking out the result on a test image (which is bad practice)\n",
        "\n",
        "some_index = 0\n",
        "plt.subplot(121); plot_digit(X_test_mod[some_index])\n",
        "plt.subplot(122); plot_digit(y_test_mod[some_index])\n",
        "plt.show()"
      ],
      "execution_count": 0,
      "outputs": []
    },
    {
      "cell_type": "code",
      "metadata": {
        "id": "Q-cGh9FKtr1B",
        "colab_type": "code",
        "colab": {}
      },
      "source": [
        "# training the classifier to clean the image\n",
        "\n",
        "knn_clf.fit(X_train_mod, y_train_mod)\n",
        "clean_digit = knn_clf.predict([X_test_mod[some_index]])\n",
        "plot_digit(clean_digit)"
      ],
      "execution_count": 0,
      "outputs": []
    }
  ]
}